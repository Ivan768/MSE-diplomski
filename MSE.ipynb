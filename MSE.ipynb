{
 "cells": [
  {
   "cell_type": "markdown",
   "metadata": {
    "collapsed": false
   },
   "source": [
    "# Multiple support excitation za nosač jednoga raspona"
   ]
  },
  {
   "cell_type": "markdown",
   "metadata": {},
   "source": [
    "<h1 id=\"tocheading\">Sadržaj</h1>\n",
    "<div id=\"toc\"></div>"
   ]
  },
  {
   "cell_type": "markdown",
   "metadata": {
    "collapsed": true
   },
   "source": [
    "## Skice\n",
    "\n",
    "### Skica diskretiziranog nosača na četiri konačna elementa\n",
    "\n",
    "Ovdje za primjer je dana prosta greda iako je moguće koristiti proračun s drugačijim rubnim uvjetima. Na skici je primjer bez dodatnih masa od utega.\n",
    "\n",
    "<img src=\"model 7 masa.png\" width=\"600\" height=\"225\" />"
   ]
  },
  {
   "cell_type": "markdown",
   "metadata": {},
   "source": [
    "## Korištena literatura\n",
    "\n",
    "~~~ ubaciti link"
   ]
  },
  {
   "cell_type": "markdown",
   "metadata": {},
   "source": [
    "## Paketi korišteni u proračunu"
   ]
  },
  {
   "cell_type": "code",
   "execution_count": 124,
   "metadata": {
    "ExecuteTime": {
     "end_time": "2016-06-16T11:20:01.389048",
     "start_time": "2016-06-16T11:20:01.008027"
    },
    "collapsed": true
   },
   "outputs": [],
   "source": [
    "%matplotlib inline"
   ]
  },
  {
   "cell_type": "code",
   "execution_count": 125,
   "metadata": {
    "ExecuteTime": {
     "end_time": "2016-06-16T11:20:02.092089",
     "start_time": "2016-06-16T11:20:02.041086"
    },
    "collapsed": true
   },
   "outputs": [],
   "source": [
    "import numpy as np\n",
    "from scipy import linalg as la\n",
    "import matplotlib.pyplot as plt"
   ]
  },
  {
   "cell_type": "markdown",
   "metadata": {},
   "source": [
    "## Ulazni podaci"
   ]
  },
  {
   "cell_type": "code",
   "execution_count": 126,
   "metadata": {
    "ExecuteTime": {
     "end_time": "2016-06-16T11:20:04.563230",
     "start_time": "2016-06-16T11:20:04.555229"
    },
    "collapsed": false
   },
   "outputs": [],
   "source": [
    "n_primjer = 3 # broj konačnih elemenata \n",
    "l = 2.0 # [m]\n",
    "h, b = 0.013, 0.040 # [m]\n",
    "I = b * h**3 / 12 # [m^4]\n",
    "E = 12.5 * 10**9 # [N/m^2]\n",
    "m_uk = 0.650 * 7/8 # [kg] ~~~ 7/8 jer je greda razrezana s 2.40 m na 2.10 m\n",
    "#m_uteg = ...\n",
    "ksi = 0.05 # vidjeti u eksperimentu\n",
    "delta_t = 0.02 #[sec] korak u proračunu\n",
    "delay_t_primjer = 5.0 #[sec] kašnjenje potresnog signala\n",
    "r_u_l_primjer = \"u\" # rubni uvjet lijevo je upeti ležaj\n",
    "r_u_d_primjer = \"z\" # rubni uvjet desno je zglobni ležaj"
   ]
  },
  {
   "cell_type": "markdown",
   "metadata": {},
   "source": [
    "## Napomene ~~i pitanja(boldano)~~:\n",
    "\n",
    "- ukoliko se kasnije zakomplicira proracun moguce je promijeniti matrice iz dense u sparse (sp.diag) na str. 240 knjige approach for industry\n",
    "\n",
    "- možda osim funkcija ubaciti i interact za varijable s indeksom \"_primjer\" (što zasada ne radi online)\n",
    "\n",
    "- za vlastite vrijednosti koristeno $M*K_{ss}^{-1}-\\lambda*I$, mozda postoji bolji način? koristi se inverzna funkcija dvaputa, a ako je M^-1 onda kaze da je matrica singularna. Ubaciti prva tri tona na graf!\n",
    "\n",
    "- dobivene frekvencije se razlikuju od prijasnjih, vjerovatno radi sljedeće napomene, pa stoga vlastite vrijednosti teže analitičkima, ali \"sa druge strane\" - smanjuju se prema analitičkima. Vidjeti na eksperimentu koje ideja je bolja.\n",
    "\n",
    "- u funkciji def M(n) se masa ukupno m_uk dijeli na n+1 dijelova potrebna provjera (ni slika ne odgovara), masa koja ulazi u proračun će biti $m_{uk} / (n-1)$ , a ne $m_{uk} / n$, ~~(kako je bilo prije ? - mogući razlog grešaka u usporedbi rezultata ?!?!)~~ sjetiti se što su Leo i Nina pričali\n",
    "\n",
    "- potrebno je ubaciti dodatne mase m_uteg u matricu masa\n",
    "\n",
    "- potrebno izračunati ksi iz optičkih mjerenja\n",
    "\n",
    "- ubaciti link za literaturu (pitati prof. Bićanića)\n",
    "\n",
    "- kako je matrica M_ss singularna, nije moguće naći inverz iste --> koristi se Moore-Penrose pseudoinverzija"
   ]
  },
  {
   "cell_type": "code",
   "execution_count": 127,
   "metadata": {
    "ExecuteTime": {
     "end_time": "2016-06-16T11:20:07.231383",
     "start_time": "2016-06-16T11:20:07.228382"
    },
    "collapsed": false
   },
   "outputs": [],
   "source": [
    "# rezultati će svugdje biti zaokruženi na 2 decimale\n",
    "np.set_printoptions(precision=2)"
   ]
  },
  {
   "cell_type": "markdown",
   "metadata": {},
   "source": [
    "## Matrica masa\n",
    "\n",
    "Ovaj korak u literaturi je nazvan Step 1. Koristi se lumped mass model - statički spregnuti sustav. Cjelokupna matrica masa ovako izgleda:\n",
    "\n",
    "$$\\begin{bmatrix}\n",
    "    M_{ss} & M_{sg}\\\\\n",
    "    M_{gs} & M_{gg}\\\\\n",
    "\\end{bmatrix}$$\n",
    "\n",
    "gdje su:\n",
    "\n",
    "- $M$ - cjelokupna matrica krutosti\n",
    "\n",
    "- $M_{ss}$ - matrica masa konstrukcije (eng. \"super structure/ non-support degree of freedom\")\n",
    "\n",
    "- $M_{sg}, M_{gs}, M_{gg}$ - matrice masa s masama uz oslonce (eng. \"support degree of freedom\")\n",
    "\n",
    "U poglavlju Rubni uvjeti se definira matrica masa konstrukcije M_ss iz matrice M_osn. M_osn je osnovna matrica masa koja je ekvivalenta cjelokupnoj osim u razmještaju redaka i stupaca:"
   ]
  },
  {
   "cell_type": "code",
   "execution_count": 128,
   "metadata": {
    "ExecuteTime": {
     "end_time": "2016-06-16T11:20:20.477140",
     "start_time": "2016-06-16T11:20:20.470140"
    },
    "collapsed": false
   },
   "outputs": [
    {
     "name": "stdout",
     "output_type": "stream",
     "text": [
      "[[ 0.14  0.    0.    0.    0.    0.    0.    0.  ]\n",
      " [ 0.    0.    0.    0.    0.    0.    0.    0.  ]\n",
      " [ 0.    0.    0.14  0.    0.    0.    0.    0.  ]\n",
      " [ 0.    0.    0.    0.    0.    0.    0.    0.  ]\n",
      " [ 0.    0.    0.    0.    0.14  0.    0.    0.  ]\n",
      " [ 0.    0.    0.    0.    0.    0.    0.    0.  ]\n",
      " [ 0.    0.    0.    0.    0.    0.    0.14  0.  ]\n",
      " [ 0.    0.    0.    0.    0.    0.    0.    0.  ]]\n"
     ]
    }
   ],
   "source": [
    "def M_osn(n):\n",
    "    \"\"\"Assembly osnovne matrice masa ovisno o broju konačnih elemenata n, \n",
    "    moguće matricu masa formirati i sličnim kodom kao matricu krutosti\"\"\"\n",
    "    return np.diag((m_uk/(n+1),0)*(n+1)) # postoji n+1 diskretnih masa u ovom proračunu (?) \n",
    "print(M_osn(n_primjer))"
   ]
  },
  {
   "cell_type": "markdown",
   "metadata": {},
   "source": [
    "## Matrica krutosti\n",
    "\n",
    "Ovaj korak u literaturi je nazvan Step 2. U poglavlju Rubni uvjeti se definiraju matrice krutosti potrebne za proračun iz cjelokupne matrice masa. Cjelokupna matrica krutosti ovako izgleda:\n",
    "\n",
    "$$\\begin{bmatrix}\n",
    "    K_{ss} & K_{sg}\\\\\n",
    "    K_{gs} & K_{gg}\\\\\n",
    "\\end{bmatrix}$$\n",
    "\n",
    "gdje su:\n",
    "\n",
    "- $K$ - cjelokupna matrica krutosti\n",
    "\n",
    "- $K_{ss}$ - statička matrica krutosti konstrukcije (eng. \"super structure/ non-support degree of freedom\")\n",
    "\n",
    "- $K_{sg}, K_{gs}, K_{gg}$ - matrice krutosti s krutostima oslonaca (eng. \"support degree of freedom\")\n",
    "\n",
    "### Matrica krutosti jednog konačnog elemenata\n",
    "\n",
    "Koristi se inženjerska matrica krutosti. U kodu je pod imenom K_1, a donja tablica daje prikaz iste u simboličnom obliku.\n",
    "\n",
    "$$\\begin{bmatrix}\n",
    "    \\frac{12 E I}{l^3} & \\frac{6 E I}{l^2} & \\frac{-12 E I}{l^3} & \\frac{6 E I}{l^2} \\\\\n",
    "    \\frac{6 E I}{l^2} & \\frac{4 E I}{l} & \\frac{-6 E I}{l^2} & \\frac{2 E I}{l} \\\\\n",
    "    \\frac{-12 E I}{l^3} & \\frac{-6 E I}{l^2} & \\frac{12 E I}{l^3} & \\frac{-6 E I}{l^2} \\\\\n",
    "    \\frac{6 E I}{l^2} & \\frac{2 E I}{l} & \\frac{-6 E I}{l^2} & \\frac{4 E I}{l} \\\\\n",
    "\\end{bmatrix}$$"
   ]
  },
  {
   "cell_type": "code",
   "execution_count": 129,
   "metadata": {
    "ExecuteTime": {
     "end_time": "2016-06-16T11:22:27.614412",
     "start_time": "2016-06-16T11:22:27.603411"
    },
    "collapsed": false,
    "scrolled": true
   },
   "outputs": [
    {
     "name": "stdout",
     "output_type": "stream",
     "text": [
      "[[ 3707.44  1235.81 -3707.44  1235.81]\n",
      " [ 1235.81   549.25 -1235.81   274.63]\n",
      " [-3707.44 -1235.81  3707.44 -1235.81]\n",
      " [ 1235.81   274.63 -1235.81   549.25]]\n"
     ]
    }
   ],
   "source": [
    "def K_1(n):\n",
    "    return np.array([[12*E*I/(l/n)**3, 6*E*I/(l/n)**2, -12*E*I/(l/n)**3, 6*E*I/(l/n)**2],\n",
    "                    [6*E*I/(l/n)**2, 4*E*I/(l/n), -6*E*I/(l/n)**2, 2*E*I/(l/n)],\n",
    "                    [-12*E*I/(l/n)**3, -6*E*I/(l/n)**2, 12*E*I/(l/n)**3, -6*E*I/(l/n)**2],\n",
    "                    [6*E*I/(l/n)**2, 2*E*I/(l/n), -6*E*I/(l/n)**2, 4*E*I/(l/n)]])\n",
    "print(K_1(n_primjer))"
   ]
  },
  {
   "cell_type": "markdown",
   "metadata": {},
   "source": [
    "### Slaganje mreže konačnih elemenata (assembly)\n",
    "\n",
    "Radi preglednosti i ovdje su dana objašnjenja matrica krutosti:\n",
    "\n",
    "- K_osn - osnovna matrica krutosti\n",
    "\n",
    "- K - cjelokupna matrica krutosti koja je ekvivalentna osnovnoj osim u razmestaju redaka i stupaca (nije potrebna za proracun)\n",
    "\n",
    "- K_ss - statička matrica krutosti konstrukcije $K_{ss}$ (eng. \"super structure/ non-support degree of freedom\")\n",
    "\n",
    "- K_sg - matrica krutosti s krutostima oslonaca $K_{sg}$ (eng. \"support degree of freedom\") koja je potrebna za proracun\n",
    "\n",
    "- K_gs, K_gg -  ostale matrice krutosti s krutostima oslonaca (eng. \"support degree of freedom\")"
   ]
  },
  {
   "cell_type": "code",
   "execution_count": 130,
   "metadata": {
    "ExecuteTime": {
     "end_time": "2016-06-16T11:25:16.641080",
     "start_time": "2016-06-16T11:25:16.633079"
    },
    "collapsed": false
   },
   "outputs": [
    {
     "name": "stdout",
     "output_type": "stream",
     "text": [
      "[[ 3707.44  1235.81 -3707.44  1235.81     0.       0.       0.       0.  ]\n",
      " [ 1235.81   549.25 -1235.81   274.63     0.       0.       0.       0.  ]\n",
      " [-3707.44 -1235.81  7414.88     0.   -3707.44  1235.81     0.       0.  ]\n",
      " [ 1235.81   274.63     0.    1098.5  -1235.81   274.63     0.       0.  ]\n",
      " [    0.       0.   -3707.44 -1235.81  7414.88     0.   -3707.44  1235.81]\n",
      " [    0.       0.    1235.81   274.63     0.    1098.5  -1235.81   274.63]\n",
      " [    0.       0.       0.       0.   -3707.44 -1235.81  3707.44 -1235.81]\n",
      " [    0.       0.       0.       0.    1235.81   274.63 -1235.81   549.25]]\n"
     ]
    }
   ],
   "source": [
    "def K_osn(n):\n",
    "    \"\"\"Assembly osnovne matrice krutosti ovisno o broju konačnih elemenata n\"\"\"\n",
    "    pomocna_matrica = np.zeros((2*(n+1), 2*(n+1))) # iniciranje nul - matrice\n",
    "    for i in range(n):\n",
    "        pomocna_matrica[2*i:2*i+4, 2*i:2*i+4] += K_1(n) \n",
    "    return pomocna_matrica\n",
    "print(K_osn(n_primjer))"
   ]
  },
  {
   "cell_type": "markdown",
   "metadata": {},
   "source": [
    "## Rubni uvjeti\n",
    "\n",
    "Ovaj korak nije naveden u koracima literature, a potreban je za generalizaciju proračuna. Ideja je da se za svaku kombinaciju rubnih uvjeta izvrše potrebna premještanja redaka i stupaca ili brisanje istih. Time se dobiju matrice $K_{ss}$, $K_{sg}$ i $M_{ss}$ koje su potrebne za proracun. Rubni uvjeti se definiraju kao \"u\" za upeti oslonac i kao \"z\" za zglobni oslonac.\n",
    "- r_u_l - rubni uvjet na lijevom osloncu \n",
    "- r_u_d - rubni uvjet na desnom osloncu\n",
    "- K_ss - statička matrica krutosti konstrukcije (super structure/ non-support degree of freedom) $K_{ss}$\n",
    "- K_sg - matrica krutosti s krutosti oslonaca (support degree of freedom) $K_{sg}$\n",
    "- M_ss - matrica masa konstrukcije (eng. \"super structure/ non-support degree of freedom\") $M_{ss}$"
   ]
  },
  {
   "cell_type": "code",
   "execution_count": 131,
   "metadata": {
    "ExecuteTime": {
     "end_time": "2016-06-16T12:42:23.526722",
     "start_time": "2016-06-16T12:42:23.471719"
    },
    "collapsed": false
   },
   "outputs": [],
   "source": [
    "def premjestanje(i):\n",
    "    \"\"\"\n",
    "    Pomocna funkcija koja daje listu i po kojoj se premjestaju \n",
    "    retci i stupci osnovne matrice krutosti\n",
    "    \"\"\"\n",
    "    return np.argsort(np.argsort(i)) # najbrzi nacin za mali broj konacnih elemenata\n",
    "\n",
    "def rubni_uvjeti(n, r_u_l, r_u_d):\n",
    "    \"\"\"\n",
    "    Uvrštavanje rubnih uvjeta u matricu krutosti ovisi o broju konačnih elemenata \n",
    "    te o rubnim uvjetima.\n",
    "    Prvo se definira sort lista koja daje indekse s novim poretkom redaka i stupaca \n",
    "    matrice krutosti. Ovisno o rubnim uvjetima argumenti arg daju drukcije indekse. \n",
    "    Nadalje, mijenjaju se retci i stupci te se odvoje matrice K_ss i K_sg \n",
    "    od osnovne matrice krutosti. Slicnom logikom se od cjelokupne matrice masa M odvoji\n",
    "    matrica masa konstrukcije M_ss.\n",
    "    \"\"\"\n",
    "    if r_u_l == \"u\" and r_u_d == \"u\":\n",
    "        sort = premjestanje([arg for arg in range(2,2*(n+1)-2)] + [0,1,2*(n+1)-1,2*(n+1)])\n",
    "        K = K_osn(n)[:,sort] # zamjena stupaca na osnovnoj matrici krutosti\n",
    "        K = K[sort,:] # zamjena redaka\n",
    "        K_ss = K[0:-4, 0:-4]\n",
    "        K_sg = K[0:-4, -4:]\n",
    "        M_ss = M_osn(n)[2:2*(n+1)-2, 2:2*(n+1)-2]\n",
    "    elif r_u_l == \"z\" and r_u_d == \"z\":\n",
    "        sort = premjestanje([arg for arg in range(1,2*(n+1)-2)] + [2*(n+1),0,2*(n+1)-1])\n",
    "        K = K_osn(n)[:,sort] # zamjena stupaca na osnovnoj matrici krutosti\n",
    "        K = K[sort,:] # zamjena redaka\n",
    "        K_ss = K[0:-2,0:-2]\n",
    "        K_sg = K[0:-2,-2:]\n",
    "        M_ss = np.delete(M_osn(n),(0,2*(n+1)-2),0) # brisanje redaka osnovne matrice masa\n",
    "        M_ss = np.delete(M_ss,(0,2*(n+1)-2),1) # brisanje stupaca\n",
    "    elif r_u_l == \"u\" and r_u_d == \"z\":\n",
    "        sort = premjestanje([arg for arg in range(2,2*(n+1)-2)] + [2*(n+1),0,1,2*(n+1)-1])\n",
    "        K = K_osn(n)[:,sort] # zamjena stupaca na osnovnoj matrici krutosti\n",
    "        K = K[sort,:] # zamjena redaka\n",
    "        K_ss = K[0:-3,0:-3]\n",
    "        K_sg = K[0:-3,-3:]\n",
    "        M_ss = np.delete(M_osn(n),(0,1,2*(n+1)-2),0) # brisanje redaka osnovne matrice masa\n",
    "        M_ss = np.delete(M_ss,(0,1,2*(n+1)-2),1) # brisanje stupaca\n",
    "    elif r_u_l == \"z\" and r_u_d == \"u\":\n",
    "        sort = premjestanje([0] + [arg for arg in range(2,2*(n+1)-2)] + [1,2*(n+1)-1,2*(n+1)])\n",
    "        K = K_osn(n)[:,sort] # zamjena stupaca na osnovnoj matrici krutosti\n",
    "        K = K[sort,:] # zamjena redaka\n",
    "        K_ss = K[0:-3,0:-3]\n",
    "        K_sg = K[0:-3,-3:]\n",
    "        M_ss = np.delete(M_osn(n),(0,2*(n+1)-2,2*(n+1)-1),0) # brisanje redaka osnovne matrice masa\n",
    "        M_ss = np.delete(M_ss,(0,2*(n+1)-2,2*(n+1)-1),1) # brisanje stupaca\n",
    "    return (K_ss,K_sg,M_ss)"
   ]
  },
  {
   "cell_type": "code",
   "execution_count": 132,
   "metadata": {
    "ExecuteTime": {
     "end_time": "2016-06-16T12:42:24.676788",
     "start_time": "2016-06-16T12:42:24.667788"
    },
    "collapsed": false
   },
   "outputs": [
    {
     "data": {
      "text/plain": [
       "(array([[ 7414.88,     0.  , -3707.44,  1235.81,     0.  ],\n",
       "        [    0.  ,  1098.5 , -1235.81,   274.63,     0.  ],\n",
       "        [-3707.44, -1235.81,  7414.88,     0.  ,  1235.81],\n",
       "        [ 1235.81,   274.63,     0.  ,  1098.5 ,   274.63],\n",
       "        [    0.  ,     0.  ,  1235.81,   274.63,   549.25]]),\n",
       " array([[-3707.44, -1235.81,     0.  ],\n",
       "        [ 1235.81,   274.63,     0.  ],\n",
       "        [    0.  ,     0.  , -3707.44],\n",
       "        [    0.  ,     0.  , -1235.81],\n",
       "        [    0.  ,     0.  , -1235.81]]))"
      ]
     },
     "execution_count": 132,
     "metadata": {},
     "output_type": "execute_result"
    }
   ],
   "source": [
    "# K_ss i K_sg matrica za varijable _primjer\n",
    "rubni_uvjeti(3, \"u\", \"z\")[0], rubni_uvjeti(3, \"u\", \"z\")[1]"
   ]
  },
  {
   "cell_type": "raw",
   "metadata": {},
   "source": [
    "~~~ Dole je nerazmjestena matrica krutosti za varijable dane kao _primjer\n",
    "    radi provjere provedenog razmjestanja po rubnih uvjetima ~~~\n",
    "[[ 3707.44  1235.81 -3707.44  1235.81     0.       0.       0.       0.  ]\n",
    " [ 1235.81   549.25 -1235.81   274.63     0.       0.       0.       0.  ]\n",
    " [-3707.44 -1235.81  7414.88     0.   -3707.44  1235.81     0.       0.  ]\n",
    " [ 1235.81   274.63     0.    1098.5  -1235.81   274.63     0.       0.  ]\n",
    " [    0.       0.   -3707.44 -1235.81  7414.88     0.   -3707.44  1235.81]\n",
    " [    0.       0.    1235.81   274.63     0.    1098.5  -1235.81   274.63]\n",
    " [    0.       0.       0.       0.   -3707.44 -1235.81  3707.44 -1235.81]\n",
    " [    0.       0.       0.       0.    1235.81   274.63 -1235.81   549.25]]\n"
   ]
  },
  {
   "cell_type": "code",
   "execution_count": 133,
   "metadata": {
    "ExecuteTime": {
     "end_time": "2016-06-16T12:51:47.537982",
     "start_time": "2016-06-16T12:51:47.529982"
    },
    "collapsed": false
   },
   "outputs": [],
   "source": [
    "#Svaki put se poziva cijela funkcija rubni_uvjeti(...). Kako to izbjeci, a da se ne ponavlja tekst\n",
    "#i ne gubi preglednost?\n",
    "def K_ss(n, r_u_l, r_u_d):\n",
    "    return rubni_uvjeti(n, r_u_l, r_u_d)[0]\n",
    "def K_sg(n, r_u_l, r_u_d):\n",
    "    return rubni_uvjeti(n, r_u_l, r_u_d)[1]\n",
    "def M_ss(n, r_u_l, r_u_d):\n",
    "    return rubni_uvjeti(n, r_u_l, r_u_d)[2]\n",
    "\n",
    "# MIRAN: Ovako? (\"tuple unpacking\")\n",
    "def uvjeti(n, r_u_l, r_u_d):\n",
    "    K_ss, K_sg, M_ss = rubni_uvjeti(n, r_u_l, r_u_d)\n",
    "    # ...."
   ]
  },
  {
   "cell_type": "markdown",
   "metadata": {},
   "source": [
    "## Proračun vlastitih vrijednosti i kružnih frekvencija\n",
    "\n",
    "Ovaj korak je u literaturi nazvan Step 3. Bilo bi dobro prepoznati pa dodati vlastite tonove koji bi se onda mogli nacrtati na grafu. Trenutno \"smetaju\" stupnjevi slobode od kuteva zaokreta."
   ]
  },
  {
   "cell_type": "code",
   "execution_count": 134,
   "metadata": {
    "ExecuteTime": {
     "end_time": "2016-06-16T12:51:49.434091",
     "start_time": "2016-06-16T12:51:49.397088"
    },
    "collapsed": false
   },
   "outputs": [
    {
     "data": {
      "text/plain": [
       "array([ 12.65,  37.61])"
      ]
     },
     "execution_count": 134,
     "metadata": {},
     "output_type": "execute_result"
    }
   ],
   "source": [
    "def w(n, r_u_l, r_u_d):\n",
    "    \"\"\"Funkcija w izvodi proracun vlastitih vrijednosti i oblika, a ispisuje kruzne\n",
    "    frekvencije sustava te odbacuje imaginarni dio +0*i.\"\"\"\n",
    "    vlastite_vrijednosti = np.linalg.inv(K_ss(n, r_u_l, r_u_d)).dot(M_ss(n, r_u_l, r_u_d))\n",
    "    evals, evecs = la.eig(vlastite_vrijednosti)\n",
    "    evals = evals[evals != 0.0] # brisu se vlastite frekvencije povezane s kutevima zaokreta\n",
    "    if np.any(np.iscomplex(evals)): # nije debuggirano\n",
    "        raise ValueError(\"Kruzne frekvencije imaju imaginarni dio\")\n",
    "    return np.sort(np.sqrt(evals**(-1))).real\n",
    "    # MIRAN: Ja bih probao koristiti 'try-except' blok, a ne 'if' za ovu provjeru gore\n",
    "\n",
    "def f(n, r_u_l, r_u_d):\n",
    "    \"\"\"Funkcija f poziva funkciju w pa dijeli istu s 2*pi.\"\"\"\n",
    "    return (w(n, r_u_l, r_u_d)/(2*np.pi))\n",
    "\n",
    "# vlastite frekvencije za sustav s 3 konacna elementa, upeti lezaj lijevo i zglobni desno\n",
    "f(n_primjer, r_u_l_primjer, r_u_d_primjer)"
   ]
  },
  {
   "cell_type": "markdown",
   "metadata": {
    "collapsed": true
   },
   "source": [
    "### Ispis frekvencije prvog tona za različite rubne uvjete. \n",
    "Na ordinati je broj konačnih elemenata pa će se moći vidjeti kako rezultati konvergiraju analitičkom s povećanjem broja konačnih elemenata. Prikazat će se rezultati za n skup prirodnih brojeva n = {3,20}.\n"
   ]
  },
  {
   "cell_type": "code",
   "execution_count": 135,
   "metadata": {
    "ExecuteTime": {
     "end_time": "2016-06-16T12:51:52.030239",
     "start_time": "2016-06-16T12:51:51.424204"
    },
    "collapsed": false
   },
   "outputs": [
    {
     "data": {
      "text/plain": [
       "<matplotlib.legend.Legend at 0x1dc75d39ac8>"
      ]
     },
     "execution_count": 135,
     "metadata": {},
     "output_type": "execute_result"
    },
    {
     "data": {
      "image/png": "[encoded data removed]",
      "text/plain": [
       "<matplotlib.figure.Figure at 0x1dc74b55c50>"
      ]
     },
     "metadata": {},
     "output_type": "display_data"
    }
   ],
   "source": [
    "fig, axes = plt.subplots(figsize=(12, 4))\n",
    "for n_niz in range(3,20):\n",
    "    axes.scatter(f(n_niz, \"u\", \"u\")[0], n_niz, color=\"blue\",\n",
    "                 label=\"prvi ton za obostrano upetu konzolu\" if n_niz == 3 else \"\")\n",
    "    axes.scatter(f(n_niz, \"u\", \"z\")[0], n_niz, color=\"red\",\n",
    "                 label=\"prvi ton za poduprtu konzolu\" if n_niz == 3 else \"\")\n",
    "    axes.scatter(f(n_niz, \"z\", \"z\")[0], n_niz, color=\"green\",\n",
    "                 label=\"prvi ton za prostu gredu\" if n_niz == 3 else \"\")\n",
    "axes.axvline(15.97, color=\"blue\", \n",
    "             label = \"analiticko rjesenje prvog tona za obostrano upetu konzolu\")\n",
    "axes.axvline(11.01, color=\"red\", \n",
    "             label = \"analiticko rjesenje prvog tona za poduprtu konzolu\")\n",
    "axes.axvline(7.05, color=\"green\", \n",
    "             label = \"analiticko rjesenje prvog tona za za prostu gredu\")\n",
    "axes.set_xlabel(\"frekvencija prvog tona [Hz]\")\n",
    "axes.set_ylabel(\"broj konacnih elemenata (3-20)\")\n",
    "axes.legend(loc=\"lower left\", bbox_to_anchor=(0.0, -0.5), fancybox=True, ncol=2)\n"
   ]
  },
  {
   "cell_type": "markdown",
   "metadata": {},
   "source": [
    "## Rayleigh-ova matrica prigušenja\n",
    "\n",
    "Ovaj korak u literaturi je nazvan step 4. Izrazi alfa_0 i alfa_1 postaju izrazito veliki odnosno mali za veliki broj konačnih elemenata. Alfa_0 postaje beskonačno za n=70 (rubni uvjeti kao za _primjer), iako radi nekog razloga matrica prigušenja se i tada može izračunati. \n",
    "\n",
    "$$\\alpha_0 = \\frac{2 \\xi \\prod_\\limits{i=1}^{n-1} \\omega_i}{\\sum_\\limits{i=1}^{n-1} \\omega_i}$$\n",
    "\n",
    "$$\\alpha_0 = \\frac{2 \\xi}{\\sum_\\limits{i=1}^{n-1} \\omega_i}$$\n",
    "\n",
    "$$C = \\alpha_0 M + \\alpha_1 K$$\n",
    "\n",
    "gdje su:\n",
    "\n",
    "- C - Rayleigh-ova matrica prigušenja\n",
    "\n",
    "- ..."
   ]
  },
  {
   "cell_type": "code",
   "execution_count": 136,
   "metadata": {
    "ExecuteTime": {
     "end_time": "2016-06-16T12:51:55.784454",
     "start_time": "2016-06-16T12:51:55.770453"
    },
    "collapsed": false
   },
   "outputs": [
    {
     "data": {
      "text/plain": [
       "array([[ 3.19,  0.  , -1.17,  0.39,  0.  ],\n",
       "       [ 0.  ,  0.35, -0.39,  0.09,  0.  ],\n",
       "       [-1.17, -0.39,  3.19,  0.  ,  0.39],\n",
       "       [ 0.39,  0.09,  0.  ,  0.35,  0.09],\n",
       "       [ 0.  ,  0.  ,  0.39,  0.09,  0.17]])"
      ]
     },
     "execution_count": 136,
     "metadata": {},
     "output_type": "execute_result"
    }
   ],
   "source": [
    "def alfa(n, r_u_l, r_u_d):\n",
    "    alfa_1 = 2*ksi/np.sum(w(n, r_u_l, r_u_d))\n",
    "    alfa_0 = alfa_1*np.prod(w(n, r_u_l, r_u_d))\n",
    "    return alfa_0, alfa_1\n",
    "def C(n, r_u_l, r_u_d):\n",
    "    \"\"\"Racunanje Rayleigh-ove matrice prigusenja\"\"\"\n",
    "    return (alfa(n_primjer, r_u_l_primjer, r_u_d_primjer)[0] * M_ss(n, r_u_l, r_u_d)\n",
    "            + alfa(n_primjer, r_u_l_primjer, r_u_d_primjer)[1] * K_ss(n, r_u_l, r_u_d))\n",
    "C(n_primjer, r_u_l_primjer, r_u_d_primjer)"
   ]
  },
  {
   "cell_type": "markdown",
   "metadata": {
    "collapsed": true
   },
   "source": [
    "## Matrica utjecajnih koeficijenata $\\Gamma$\n",
    "\n",
    "Ovaj korak u literaturi je nazvan step 5. Za single support excitation i npr. obostrano upetu konzolu, matrica utjecajnih koeficijenata je dimenzija 4x4 , na dijagonali su (1,0,1,0) - nule predstavljaju potresnu ekscitaciju kuteva zaokreta. Single support excitation je ustvari primjer multi support excitation-a gdje su kašnjenja potresnog signala jednaka nuli. Preuzet će se opći postupak kao za multi support excitation, isti je dan u nastavku:\n",
    "\n",
    "$$\\Gamma = -K_{ss}^{-1} K_{sg}$$"
   ]
  },
  {
   "cell_type": "code",
   "execution_count": 137,
   "metadata": {
    "ExecuteTime": {
     "end_time": "2016-06-16T12:52:05.926034",
     "start_time": "2016-06-16T12:52:05.920033"
    },
    "collapsed": false
   },
   "outputs": [
    {
     "data": {
      "text/plain": [
       "array([[ 0.85,  0.37,  0.15],\n",
       "       [-0.42,  0.17,  0.42],\n",
       "       [ 0.48,  0.3 ,  0.52],\n",
       "       [-0.67, -0.33,  0.67],\n",
       "       [-0.75, -0.5 ,  0.75]])"
      ]
     },
     "execution_count": 137,
     "metadata": {},
     "output_type": "execute_result"
    }
   ],
   "source": [
    "def Gama(n, r_u_l, r_u_d):\n",
    "    return -np.linalg.inv(K_ss(n, r_u_l, r_u_d)).dot(K_sg(n, r_u_l, r_u_d))\n",
    "Gama(n_primjer, r_u_l_primjer, r_u_d_primjer)#.shape[1]"
   ]
  },
  {
   "cell_type": "markdown",
   "metadata": {},
   "source": [
    "## Potresni zapis\n",
    "\n",
    "Ovaj korak u literaturi je nazvan step 6. Koristi se stvarni potresni zapis potresa Elcentro preuzet sa stranice http://www.vibrationdata.com/elcentro.dat.\n",
    "\n"
   ]
  },
  {
   "cell_type": "code",
   "execution_count": 138,
   "metadata": {
    "ExecuteTime": {
     "end_time": "2016-06-16T12:52:11.987380",
     "start_time": "2016-06-16T12:52:11.760367"
    },
    "collapsed": false
   },
   "outputs": [
    {
     "data": {
      "text/plain": [
       "<matplotlib.text.Text at 0x1dc75d9bf60>"
      ]
     },
     "execution_count": 138,
     "metadata": {},
     "output_type": "execute_result"
    },
    {
     "data": {
      "image/png": "[encoded data removed]",
      "text/plain": [
       "<matplotlib.figure.Figure at 0x1dc733b85c0>"
      ]
     },
     "metadata": {},
     "output_type": "display_data"
    }
   ],
   "source": [
    "xg = np.fromfile('elcentro.dat', dtype=float, count=-1, sep=' ')\n",
    "xg_vrijeme_osn = xg[::2] # parne vrijednosti elcentro.dat ~~~ npr. 0,2,4,...\n",
    "xg_intezitet_osn = xg[1::2] * 9.81 # neparne vrijednosti elcentro.dat ~~~ npr. 1,3,...\n",
    "\n",
    "fig, axes = plt.subplots()\n",
    "axes.plot(xg_vrijeme_osn, xg_intezitet_osn)\n",
    "axes.set_xlabel(\"vrijeme [s]\")\n",
    "axes.set_ylabel(\"intezitet potresa [m/s^2]\")\n",
    "axes.set_title(\"Potresni zapis Elcentro\")"
   ]
  },
  {
   "cell_type": "markdown",
   "metadata": {},
   "source": [
    "### Definiranje kašnjenja potresnog zapisa\n",
    "\n",
    "Ovisno o r, broju stupaca matrice utjecajnih koeficijenata, se definiraju potresni zapisi za onemogućene/definirane stupnjeve slobode (eng. support degrees of freedom). Način uvođenja varijable r je računski zahtjevan, ali garantira točnost. Varijabla r je broj komponenti ulaznih potresnih signala.\n",
    "\n",
    "Ispod koda je plot potresnih zapisa. Iz njega se vidi da je definirano da za kuteve zaokreta nema potresne pobude. Proračun koristi prvih 30 sekundi potresnih zapisa pa isti nebi funkcionirao za kraći potresni zapis.\n"
   ]
  },
  {
   "cell_type": "code",
   "execution_count": 139,
   "metadata": {
    "ExecuteTime": {
     "end_time": "2016-06-16T12:52:16.737652",
     "start_time": "2016-06-16T12:52:16.108616"
    },
    "collapsed": false,
    "scrolled": false
   },
   "outputs": [
    {
     "data": {
      "image/png": "[encoded data removed]",
      "text/plain": [
       "<matplotlib.figure.Figure at 0x1dc75dc3ba8>"
      ]
     },
     "metadata": {},
     "output_type": "display_data"
    }
   ],
   "source": [
    "def xg_intezitet(delay_t, r_u_l, r_u_d):\n",
    "    \"\"\"Potresni zapis se generalizira odnosno produžuje i uvodi kašnjenje\n",
    "    za desni oslonac. Varijabla r predstavlja broj stupaca matrice utjecajnih\n",
    "    koeficijenata odnosno broj definiranih stupnjeva slobode\"\"\"\n",
    "    r = Gama(n_primjer, r_u_l, r_u_d).shape[1]\n",
    "    xg_intezitet = np.zeros((r, int((30+delay_t)/delta_t))) # iniciranje nul matrice\n",
    "    xg_intezitet[0,:int(30/delta_t)]= xg_intezitet_osn[:int(30/delta_t)]\n",
    "    if r_u_l == \"z\":\n",
    "        xg_intezitet[1,int(delay_t/delta_t):]= xg_intezitet_osn[:int(30/delta_t)]\n",
    "    elif r_u_l == \"u\":\n",
    "        xg_intezitet[2,int(delay_t/delta_t):]= xg_intezitet_osn[:int(30/delta_t)]   \n",
    "    return xg_intezitet\n",
    "\n",
    "def xg_vrijeme(delay_t):\n",
    "    return np.array([(0+i*delta_t) for i in range(0, int((30+delay_t)/delta_t))])\n",
    "\n",
    "def plot_zapisi(delay_t, r_u_l, r_u_d):\n",
    "    \"\"\"Plot potresnih zapisa na definirane stupnjeve slobode. Ulazni podaci osim\n",
    "    kasnjenja su i rubni uvjeti.\"\"\"\n",
    "    r = Gama(n_primjer, r_u_l, r_u_d).shape[1]\n",
    "    fig, axes = plt.subplots(1, r, figsize=(3*r, 3))\n",
    "    fig.suptitle(\"Potresni zapisi definiranih stupnjeva slobode\", y=1.10, fontsize=17)\n",
    "    for i in range(r):\n",
    "        axes[i].plot(xg_vrijeme(delay_t), xg_intezitet(delay_t, r_u_l, r_u_d)[i,:])\n",
    "        axes[i].set_xlabel(\"vrijeme [s]\")\n",
    "        axes[i].set_ylabel(\"intezitet potresa [m/s^2]\" if i == 0 else \"\")\n",
    "        axes[i].set_title(\"stupanj slobode  %s\"%(i+1))\n",
    "    plt.tight_layout()\n",
    "    \n",
    "plot_zapisi(delay_t_primjer, r_u_l_primjer, r_u_d_primjer)"
   ]
  },
  {
   "cell_type": "markdown",
   "metadata": {},
   "source": [
    "## Prijelazna matrica\n",
    "\n",
    "Ovaj korak u literaturi je nazvan step 7. Za računanje dinamičke prijelazne patrice $A_d$ se koristi Pade-ova aproksimacija za matrični eksponent.\n",
    "\n",
    "Napravljena je preinaka proračuna prikazanog u literaturi, odbacivanje \"shear building\" pretpostavke te korištenje kuteva zaokreta za stupnjeve slobode. Radi spomenutog, matrica masa $M_{ss}$ je singularna pa \"nije moguće\" naći inverznu matricu $M_{ss}^{-1}$. Pokušat će se zaobići problem korištenjem Moore-Penrose-ovog pseudoinverza funkcije. Moguće je i pridružiti zanemarive vrijednosti ekscentara masa pa nebi bilo potrebe za pseudoinverzom.\n",
    "\n",
    "$$A_d = e^{A \\Delta t}$$\n",
    "\n",
    "$$A = \\begin{bmatrix}\n",
    "    0 & I\\\\\n",
    "    -M_{ss}^{-1} K_{ss} & -M_{ss}^{-1} C_{ss}\\\\\n",
    "\\end{bmatrix}$$"
   ]
  },
  {
   "cell_type": "code",
   "execution_count": 140,
   "metadata": {
    "ExecuteTime": {
     "end_time": "2016-06-16T12:52:23.701050",
     "start_time": "2016-06-16T12:52:23.639047"
    },
    "collapsed": false
   },
   "outputs": [
    {
     "data": {
      "text/plain": [
       "array([[  0.00e+00,   0.00e+00,   0.00e+00,   0.00e+00,   0.00e+00,\n",
       "          1.00e+00,   0.00e+00,   0.00e+00,   0.00e+00,   0.00e+00],\n",
       "       [  0.00e+00,   0.00e+00,   0.00e+00,   0.00e+00,   0.00e+00,\n",
       "          0.00e+00,   1.00e+00,   0.00e+00,   0.00e+00,   0.00e+00],\n",
       "       [  0.00e+00,   0.00e+00,   0.00e+00,   0.00e+00,   0.00e+00,\n",
       "          0.00e+00,   0.00e+00,   1.00e+00,   0.00e+00,   0.00e+00],\n",
       "       [  0.00e+00,   0.00e+00,   0.00e+00,   0.00e+00,   0.00e+00,\n",
       "          0.00e+00,   0.00e+00,   0.00e+00,   1.00e+00,   0.00e+00],\n",
       "       [  0.00e+00,   0.00e+00,   0.00e+00,   0.00e+00,   0.00e+00,\n",
       "          0.00e+00,   0.00e+00,   0.00e+00,   0.00e+00,   1.00e+00],\n",
       "       [ -5.21e+04,   0.00e+00,   2.61e+04,  -8.69e+03,   0.00e+00,\n",
       "         -2.25e+01,   0.00e+00,   8.26e+00,  -2.75e+00,   0.00e+00],\n",
       "       [  0.00e+00,   0.00e+00,   0.00e+00,   0.00e+00,   0.00e+00,\n",
       "          0.00e+00,   0.00e+00,   0.00e+00,   0.00e+00,   0.00e+00],\n",
       "       [  2.61e+04,   8.69e+03,  -5.21e+04,   0.00e+00,  -8.69e+03,\n",
       "          8.26e+00,   2.75e+00,  -2.25e+01,   0.00e+00,  -2.75e+00],\n",
       "       [  0.00e+00,   0.00e+00,   0.00e+00,   0.00e+00,   0.00e+00,\n",
       "          0.00e+00,   0.00e+00,   0.00e+00,   0.00e+00,   0.00e+00],\n",
       "       [  0.00e+00,   0.00e+00,   0.00e+00,   0.00e+00,   0.00e+00,\n",
       "          0.00e+00,   0.00e+00,   0.00e+00,   0.00e+00,   0.00e+00]])"
      ]
     },
     "execution_count": 140,
     "metadata": {},
     "output_type": "execute_result"
    }
   ],
   "source": [
    "def A_A(n, r_u_l, r_u_d):\n",
    "    \"\"\"Radi formiranja prijelaznih matrice A i A_d pomoću nested array je potrebno provjeriti\n",
    "    dimenzije matrica krutosti (odnosno prigušenja i masa) - varijabla dim. \"\"\"\n",
    "    dim = K_ss(n, r_u_l, r_u_d).shape[0]\n",
    "    A_10 = np.dot(-np.linalg.pinv(M_ss(n, r_u_l, r_u_d)) , K_ss(n, r_u_l, r_u_d))\n",
    "    A_11 = np.dot(-np.linalg.pinv(M_ss(n, r_u_l, r_u_d)) , C(n, r_u_l, r_u_d))\n",
    "    A = np.vstack((np.hstack((np.zeros((dim,dim)),np.identity(dim))),np.hstack((A_10,A_11))))\n",
    "    A_d = la.expm(A*delta_t)\n",
    "    return A, A_d\n",
    "\n",
    "def A(n, r_u_l, r_u_d):\n",
    "    return A_A(n, r_u_l, r_u_d)[0]\n",
    "\n",
    "def A_d(n, r_u_l, r_u_d):\n",
    "    return A_A(n, r_u_l, r_u_d)[1]\n",
    "\n",
    "A(n_primjer, r_u_l_primjer, r_u_d_primjer)"
   ]
  },
  {
   "cell_type": "markdown",
   "metadata": {},
   "source": [
    "## Vektor stanja\n",
    "\n",
    "Ovi koraci u literaturi su nazvani step 8 i step 9. Cilj je pronači vektor stanja z. Koristi se multi support računski pristup i za single support excitation. Prvo se izračuna \"ulaz\" $E_d$ i $E$ prostora stanja (state space). Opet se koristi pseudoinverz, ovog puta za prijelaznu matricu $A^{-1}$.\n",
    "\n",
    "$$ z_{k+1} = A_d z_k + E_d $$\n",
    "\n",
    "$$ E_d = A^{-1} (A_d - I) E $$\n",
    "\n",
    "$$ E = \\begin{bmatrix}\n",
    "    0_{nxr} \\\\\n",
    "    - \\Gamma {\\ddot{x}_g}_{nxr} \\\\\n",
    "\\end{bmatrix} $$"
   ]
  },
  {
   "cell_type": "code",
   "execution_count": 141,
   "metadata": {
    "ExecuteTime": {
     "end_time": "2016-06-16T12:54:11.742230",
     "start_time": "2016-06-16T12:54:11.709228"
    },
    "collapsed": false,
    "scrolled": true
   },
   "outputs": [
    {
     "data": {
      "text/plain": [
       "array([[ -1.95e-06,  -1.13e-06,  -3.07e-07, ...,   1.18e-06,   1.15e-06,\n",
       "          1.14e-06],\n",
       "       [  6.10e-07,   3.52e-07,   9.58e-08, ...,  -3.98e-07,  -3.91e-07,\n",
       "         -3.85e-07],\n",
       "       [ -1.77e-06,  -1.02e-06,  -2.78e-07, ...,   1.20e-06,   1.18e-06,\n",
       "          1.16e-06],\n",
       "       ..., \n",
       "       [ -1.82e-04,  -1.05e-04,  -2.86e-05, ...,  -1.29e-04,  -1.27e-04,\n",
       "         -1.25e-04],\n",
       "       [  8.24e-04,   4.76e-04,   1.29e-04, ...,   5.06e-04,   4.97e-04,\n",
       "          4.89e-04],\n",
       "       [  9.27e-04,   5.36e-04,   1.46e-04, ...,   5.69e-04,   5.59e-04,\n",
       "          5.50e-04]])"
      ]
     },
     "execution_count": 141,
     "metadata": {},
     "output_type": "execute_result"
    }
   ],
   "source": [
    "def E_E(n, r_u_l, r_u_d, delay_t):\n",
    "    \"\"\"Definiranje ulaza E i E_d...\"\"\"\n",
    "    dim = K_ss(n, r_u_l, r_u_d).shape[0]\n",
    "    E_1 = np.vstack(((np.zeros((dim, int((30+delay_t)/delta_t)))),\n",
    "                   (-Gama(n, r_u_l, r_u_d).dot(xg_intezitet(delay_t, r_u_l, r_u_d))))) \n",
    "    E_2 = np.linalg.pinv(A(n, r_u_l, r_u_d)).dot(A_d(n, r_u_l, r_u_d) - np.identity(2*dim)).dot(E_1)\n",
    "    return E_1, E_2\n",
    "\n",
    "def E_s(n, r_u_l, r_u_d, delay_t):\n",
    "    \"\"\"Naziv sugerira E_staticno - u literaturi se koristi oznaka E koja je već zauzeta s\n",
    "    modulom elastičnosti\"\"\"\n",
    "    return E_E(n, r_u_l, r_u_d, delay_t)[0]\n",
    "\n",
    "def E_d(n, r_u_l, r_u_d, delay_t):\n",
    "    return E_E(n, r_u_l, r_u_d, delay_t)[1]\n",
    "\n",
    "E_d(n_primjer, r_u_l_primjer, r_u_d_primjer, delay_t_primjer)"
   ]
  },
  {
   "cell_type": "markdown",
   "metadata": {
    "collapsed": true
   },
   "source": [
    "## Dinamička analiza u vremenu (eng. time history) metodom prostora stanja (eng. state space)\n",
    "\n",
    "Računaju se pomaci, brzine i ubrzanja za svaki vremenski korak delta_t. Ispod je dan proračun metodom prostora stanja. Koriste se praktički sve dosad definirane funkcije. \n",
    "\n",
    "Definiranjem funkcije prostor_stanja će se proračun moći pozvat jednom naredbom za: odabrani broj konačnih elemenata, odabrane rubne uvjete te odabrano kašnjenje potresnog signala. \n",
    "\n",
    "$$ z_{k+1} = A_d z_k + E_d $$\n",
    "\n",
    "$$ \\dot{z}_{k+1} = A z_k + E $$\n",
    "\n",
    "$$ z = \\begin{bmatrix}\n",
    "    x \\\\\n",
    "    \\dot{x} \\\\\n",
    "\\end{bmatrix} $$\n",
    "\n",
    "$$ \\dot{z} = \\begin{bmatrix}\n",
    "    \\dot{x} \\\\\n",
    "    \\ddot{x} \\\\\n",
    "\\end{bmatrix} $$"
   ]
  },
  {
   "cell_type": "code",
   "execution_count": 170,
   "metadata": {
    "collapsed": false
   },
   "outputs": [
    {
     "data": {
      "text/plain": [
       "array([[ 0.  , -0.07, -1.73, ...,   nan,   nan,  0.  ],\n",
       "       [ 0.  ,  0.06,  0.02, ...,   nan,   nan,  0.  ],\n",
       "       [ 0.  , -0.07, -2.73, ...,   nan,   nan,  0.  ],\n",
       "       [ 0.  ,  0.06,  0.02, ...,   nan,   nan,  0.  ],\n",
       "       [ 0.  ,  0.06,  0.03, ...,   nan,   nan,  0.  ]])"
      ]
     },
     "execution_count": 170,
     "metadata": {},
     "output_type": "execute_result"
    }
   ],
   "source": [
    "def prostor_stanja(n, r_u_l, r_u_d, delay_t):\n",
    "    \"\"\"... Reshape funkcija pretvara vektor s m clanova u matricu m x 1 \n",
    "    (slicna logika kao u Matlabu). Varijabla xg_sveukupno zbraja inercijalnu\n",
    "    silu i potresnu silu....\"\"\"\n",
    "    t = 0.02\n",
    "    i = 1\n",
    "    dim = K_ss(n, r_u_l, r_u_d).shape[0]\n",
    "    \n",
    "    # iniciranje nul matrica :\n",
    "    z = np.zeros([2*dim,len(xg_vrijeme(delay_t))])\n",
    "    z_dot = z \n",
    "    xg_sveukupno = np.zeros([dim,len(xg_vrijeme(delay_t))])\n",
    "    \n",
    "    # iniciranje \"rubnog uvjeta\" ubrzanja u trenutku t=0 :\n",
    "    z_dot[dim:,0] = xg_intezitet(delay_t, r_u_l, r_u_d)[0,0]\n",
    "    \n",
    "    # pomocne varijable - radi preglednosti u petlji :\n",
    "    A_pomocna = A(n, r_u_l, r_u_d)\n",
    "    A_d_pomocna = A_d(n, r_u_l, r_u_d)\n",
    "    E_s_pomocna = E_s(n, r_u_l, r_u_d, delay_t)\n",
    "    E_d_pomocna = E_d(n, r_u_l, r_u_d, delay_t)\n",
    "    \n",
    "    # petlja :\n",
    "    while t < xg_vrijeme(delay_t)[-2]: # pokusat ubacit i zadnji vrem. korak\n",
    "        z[:,i:(i+1)] =  A_d_pomocna.dot(z[:,(i-1):i]) + E_d_pomocna[:,i-1].reshape(2*dim,1)\n",
    "        z_dot[:,i:(i+1)] = A_pomocna.dot(z[:,i:(i+1)]) + E_s_pomocna[:,i].reshape(2*dim,1)\n",
    "        xg_sveukupno[:,i] = z_dot[dim:,i] + Gama(n, r_u_l, r_u_d).dot(xg_intezitet(delay_t, r_u_l, r_u_d)[:,i])\n",
    "        t += delta_t\n",
    "        i += 1\n",
    "        \n",
    "    return z, z_dot, xg_sveukupno\n",
    "\n",
    "# rjesenje (maknuti # ispod za aktivaciju) :\n",
    "prostor_stanja(n_primjer, r_u_l_primjer, r_u_d_primjer, delay_t_primjer)[0][:5,:]\n",
    "# pomaci ~~~ teze beskonacnosti kao i druge vrijednosti iz petlje, greska negdje"
   ]
  },
  {
   "cell_type": "code",
   "execution_count": 157,
   "metadata": {
    "collapsed": false
   },
   "outputs": [
    {
     "ename": "IndexError",
     "evalue": "index out of range",
     "output_type": "error",
     "traceback": [
      "\u001b[1;31m---------------------------------------------------------------------------\u001b[0m",
      "\u001b[1;31mIndexError\u001b[0m                                Traceback (most recent call last)",
      "\u001b[1;32m<ipython-input-157-002e6f635aca>\u001b[0m in \u001b[0;36m<module>\u001b[1;34m()\u001b[0m\n\u001b[0;32m     14\u001b[0m     \u001b[0mplt\u001b[0m\u001b[1;33m.\u001b[0m\u001b[0mtight_layout\u001b[0m\u001b[1;33m(\u001b[0m\u001b[1;33m)\u001b[0m\u001b[1;33m\u001b[0m\u001b[0m\n\u001b[0;32m     15\u001b[0m \u001b[1;33m\u001b[0m\u001b[0m\n\u001b[1;32m---> 16\u001b[1;33m \u001b[0mplot_rjesenja\u001b[0m\u001b[1;33m(\u001b[0m\u001b[0mn_primjer\u001b[0m\u001b[1;33m,\u001b[0m \u001b[0mr_u_l_primjer\u001b[0m\u001b[1;33m,\u001b[0m \u001b[0mr_u_d_primjer\u001b[0m\u001b[1;33m,\u001b[0m \u001b[0mdelay_t_primjer\u001b[0m\u001b[1;33m)\u001b[0m\u001b[1;33m\u001b[0m\u001b[0m\n\u001b[0m",
      "\u001b[1;32m<ipython-input-157-002e6f635aca>\u001b[0m in \u001b[0;36mplot_rjesenja\u001b[1;34m(n, r_u_l, r_u_d, delay_t)\u001b[0m\n\u001b[0;32m      5\u001b[0m     \u001b[0mpomak\u001b[0m \u001b[1;33m=\u001b[0m \u001b[0mprostor_stanja\u001b[0m\u001b[1;33m(\u001b[0m\u001b[0mn\u001b[0m\u001b[1;33m,\u001b[0m \u001b[0mr_u_l\u001b[0m\u001b[1;33m,\u001b[0m \u001b[0mr_u_d\u001b[0m\u001b[1;33m,\u001b[0m \u001b[0mdelay_t\u001b[0m\u001b[1;33m)\u001b[0m\u001b[1;33m[\u001b[0m\u001b[1;36m0\u001b[0m\u001b[1;33m]\u001b[0m\u001b[1;33m[\u001b[0m\u001b[1;33m:\u001b[0m\u001b[0mdim\u001b[0m\u001b[1;33m,\u001b[0m\u001b[1;33m:\u001b[0m\u001b[1;33m]\u001b[0m\u001b[1;33m\u001b[0m\u001b[0m\n\u001b[0;32m      6\u001b[0m     \u001b[1;31m#akceleracija = prostor_stanja(n, r_u_l, r_u_d, delay_t)[1] # odnosno [2] za sveuk.\u001b[0m\u001b[1;33m\u001b[0m\u001b[1;33m\u001b[0m\u001b[0m\n\u001b[1;32m----> 7\u001b[1;33m     \u001b[0mfig\u001b[0m\u001b[1;33m,\u001b[0m \u001b[0maxes\u001b[0m \u001b[1;33m=\u001b[0m \u001b[0mplt\u001b[0m\u001b[1;33m.\u001b[0m\u001b[0msubplots\u001b[0m\u001b[1;33m(\u001b[0m\u001b[1;36m1\u001b[0m\u001b[1;33m,\u001b[0m \u001b[0mn\u001b[0m\u001b[1;33m-\u001b[0m\u001b[0mr\u001b[0m\u001b[1;33m,\u001b[0m \u001b[0mfigsize\u001b[0m\u001b[1;33m=\u001b[0m\u001b[1;33m(\u001b[0m\u001b[1;36m1\u001b[0m\u001b[1;33m*\u001b[0m\u001b[0mr\u001b[0m\u001b[1;33m,\u001b[0m \u001b[1;36m1\u001b[0m\u001b[1;33m)\u001b[0m\u001b[1;33m)\u001b[0m \u001b[1;31m# skuziti logiku da ispadne uredno\u001b[0m\u001b[1;33m\u001b[0m\u001b[0m\n\u001b[0m\u001b[0;32m      8\u001b[0m     \u001b[0mfig\u001b[0m\u001b[1;33m.\u001b[0m\u001b[0msuptitle\u001b[0m\u001b[1;33m(\u001b[0m\u001b[1;34m\"Rjesenja za stupnjeve slobode\"\u001b[0m\u001b[1;33m,\u001b[0m \u001b[0my\u001b[0m\u001b[1;33m=\u001b[0m\u001b[1;36m1.10\u001b[0m\u001b[1;33m,\u001b[0m \u001b[0mfontsize\u001b[0m\u001b[1;33m=\u001b[0m\u001b[1;36m17\u001b[0m\u001b[1;33m)\u001b[0m\u001b[1;33m\u001b[0m\u001b[0m\n\u001b[0;32m      9\u001b[0m     \u001b[1;32mfor\u001b[0m \u001b[0mi\u001b[0m \u001b[1;32min\u001b[0m \u001b[0mrange\u001b[0m\u001b[1;33m(\u001b[0m\u001b[0mn\u001b[0m\u001b[1;33m-\u001b[0m\u001b[0mr\u001b[0m\u001b[1;33m)\u001b[0m\u001b[1;33m:\u001b[0m\u001b[1;33m\u001b[0m\u001b[0m\n",
      "\u001b[1;32mC:\\Users\\Ivan\\Anaconda3\\lib\\site-packages\\matplotlib\\pyplot.py\u001b[0m in \u001b[0;36msubplots\u001b[1;34m(nrows, ncols, sharex, sharey, squeeze, subplot_kw, gridspec_kw, **fig_kw)\u001b[0m\n\u001b[0;32m   1184\u001b[0m \u001b[1;33m\u001b[0m\u001b[0m\n\u001b[0;32m   1185\u001b[0m     \u001b[1;31m# Create first subplot separately, so we can share it if requested\u001b[0m\u001b[1;33m\u001b[0m\u001b[1;33m\u001b[0m\u001b[0m\n\u001b[1;32m-> 1186\u001b[1;33m     \u001b[0max0\u001b[0m \u001b[1;33m=\u001b[0m \u001b[0mfig\u001b[0m\u001b[1;33m.\u001b[0m\u001b[0madd_subplot\u001b[0m\u001b[1;33m(\u001b[0m\u001b[0mgs\u001b[0m\u001b[1;33m[\u001b[0m\u001b[1;36m0\u001b[0m\u001b[1;33m,\u001b[0m \u001b[1;36m0\u001b[0m\u001b[1;33m]\u001b[0m\u001b[1;33m,\u001b[0m \u001b[1;33m**\u001b[0m\u001b[0msubplot_kw\u001b[0m\u001b[1;33m)\u001b[0m\u001b[1;33m\u001b[0m\u001b[0m\n\u001b[0m\u001b[0;32m   1187\u001b[0m     \u001b[0maxarr\u001b[0m\u001b[1;33m[\u001b[0m\u001b[1;36m0\u001b[0m\u001b[1;33m]\u001b[0m \u001b[1;33m=\u001b[0m \u001b[0max0\u001b[0m\u001b[1;33m\u001b[0m\u001b[0m\n\u001b[0;32m   1188\u001b[0m \u001b[1;33m\u001b[0m\u001b[0m\n",
      "\u001b[1;32mC:\\Users\\Ivan\\Anaconda3\\lib\\site-packages\\matplotlib\\gridspec.py\u001b[0m in \u001b[0;36m__getitem__\u001b[1;34m(self, key)\u001b[0m\n\u001b[0;32m    162\u001b[0m                     \u001b[0mk2\u001b[0m \u001b[1;33m+=\u001b[0m \u001b[0mncols\u001b[0m\u001b[1;33m\u001b[0m\u001b[0m\n\u001b[0;32m    163\u001b[0m                 \u001b[1;32mif\u001b[0m \u001b[0mk2\u001b[0m \u001b[1;33m>=\u001b[0m \u001b[0mncols\u001b[0m \u001b[1;32mor\u001b[0m \u001b[0mk2\u001b[0m \u001b[1;33m<\u001b[0m \u001b[1;36m0\u001b[0m \u001b[1;33m:\u001b[0m\u001b[1;33m\u001b[0m\u001b[0m\n\u001b[1;32m--> 164\u001b[1;33m                     \u001b[1;32mraise\u001b[0m \u001b[0mIndexError\u001b[0m\u001b[1;33m(\u001b[0m\u001b[1;34m\"index out of range\"\u001b[0m\u001b[1;33m)\u001b[0m\u001b[1;33m\u001b[0m\u001b[0m\n\u001b[0m\u001b[0;32m    165\u001b[0m                 \u001b[0mcol1\u001b[0m\u001b[1;33m,\u001b[0m \u001b[0mcol2\u001b[0m \u001b[1;33m=\u001b[0m \u001b[0mk2\u001b[0m\u001b[1;33m,\u001b[0m \u001b[0mk2\u001b[0m\u001b[1;33m+\u001b[0m\u001b[1;36m1\u001b[0m\u001b[1;33m\u001b[0m\u001b[0m\n\u001b[0;32m    166\u001b[0m \u001b[1;33m\u001b[0m\u001b[0m\n",
      "\u001b[1;31mIndexError\u001b[0m: index out of range"
     ]
    },
    {
     "data": {
      "text/plain": [
       "<matplotlib.figure.Figure at 0x1dc733a9240>"
      ]
     },
     "metadata": {},
     "output_type": "display_data"
    }
   ],
   "source": [
    "def plot_rjesenja(n, r_u_l, r_u_d, delay_t):\n",
    "    \"\"\"Plot... paziti da n ne bude prevelik broj jer ce onda biti previse plotova\"\"\"\n",
    "    dim = K_ss(n, r_u_l, r_u_d).shape[0]\n",
    "    r = Gama(n_primjer, r_u_l, r_u_d).shape[1]\n",
    "    pomak = prostor_stanja(n, r_u_l, r_u_d, delay_t)[0][:dim,:]\n",
    "    #akceleracija = prostor_stanja(n, r_u_l, r_u_d, delay_t)[1] # odnosno [2] za sveuk.\n",
    "    fig, axes = plt.subplots(1, n-r, figsize=(1*r, 1)) # skuziti logiku da ispadne uredno \n",
    "    fig.suptitle(\"Rjesenja za stupnjeve slobode\", y=1.10, fontsize=17)\n",
    "    for i in range(n-r):\n",
    "        axes[i].plot(xg_vrijeme(delay_t), pomak[i,:])\n",
    "        axes[i].set_xlabel(\"vrijeme [s]\")\n",
    "        axes[i].set_ylabel(\"...\" if i == 0 else \"\")\n",
    "        axes[i].set_title(\"stupanj slobode  %s\"%(i+1))\n",
    "    plt.tight_layout()\n",
    "    \n",
    "plot_rjesenja(n_primjer, r_u_l_primjer, r_u_d_primjer, delay_t_primjer)"
   ]
  }
 ],
 "metadata": {
  "kernelspec": {
   "display_name": "Python 3",
   "language": "python",
   "name": "python3"
  },
  "language_info": {
   "codemirror_mode": {
    "name": "ipython",
    "version": 3
   },
   "file_extension": ".py",
   "mimetype": "text/x-python",
   "name": "python",
   "nbconvert_exporter": "python",
   "pygments_lexer": "ipython3",
   "version": "3.5.1"
  },
  "latex_envs": {
   "bibliofile": "biblio.bib",
   "cite_by": "apalike",
   "current_citInitial": 1,
   "eqLabelWithNumbers": true,
   "eqNumInitial": 0
  },
  "toc": {
   "toc_cell": false,
   "toc_number_sections": false,
   "toc_threshold": "3",
   "toc_window_display": false
  }
 },
 "nbformat": 4,
 "nbformat_minor": 0
}
