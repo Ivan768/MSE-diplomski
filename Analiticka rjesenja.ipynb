{
 "cells": [
  {
   "cell_type": "markdown",
   "metadata": {
    "collapsed": false
   },
   "source": [
    "# Analitički proračun frekvencija\n",
    "\n",
    "Diferencijalna jednadžba:\n",
    "$$ w^{IV}+\\frac{ρAw ̈}{EI}=0 $$\n",
    "\n",
    "Uvodi se funkcija pomaka ovisna o dvije varijable, vremenu i dužini, a ista funkcija se može prikazati kao umnožak dvije sljedeće funkcije.\n",
    "\n",
    "$$w(x,t)=f(x)*g(t)$$\n",
    "\n",
    "$$ \\frac{f^{IV}}{f}=\\frac{-ρA}{EI} \\frac {g ̈}{g}=const.=ω^2  \\frac{ρA}{EI}=β^4 $$\n",
    "\n",
    "$$f^{IV}-β^4 f=0$$\n",
    "\n",
    "Gore je dana diferencijalna jednadžba bez dijela koji ovisi o vremenu, a njena rješenja su:\n",
    "\n",
    "$$ f = w = C_1 cosh(\\beta*x) + C_2 sinh(\\beta*x) + C_3 cos(\\beta*x) + C_4 sin(\\beta*x) $$\n",
    "\n",
    "$$ \\varphi = \\beta(C_1 sinh(\\beta*x)+ C_2 cosh(\\beta*x) - C_3 sin(\\beta*x) + C_4 cos(\\beta*x)) $$\n",
    "\n",
    "$$ M = \\beta^2 (C_1 cosh(\\beta*x) + C_2 sinh(\\beta*x) - C_3 cos(\\beta*x) - C_4 sin(\\beta*x)) $$ \n",
    "\n",
    "$$ T = \\beta^3 (C_1 sinh(\\beta*x) + C_2 cosh(\\beta*x) + C_3 sin(\\beta*x) - C_4 cos(\\beta*x)) $$"
   ]
  },
  {
   "cell_type": "code",
   "execution_count": 10,
   "metadata": {
    "collapsed": false
   },
   "outputs": [],
   "source": [
    "# paketi koristeni proracunu\n",
    "\n",
    "%matplotlib inline\n",
    "import numpy as np\n",
    "import sympy\n",
    "from sympy import sin, cos, sinh, cosh\n",
    "from sympy.plotting import plot\n",
    "from sympy import init_printing\n",
    "init_printing()"
   ]
  },
  {
   "cell_type": "markdown",
   "metadata": {},
   "source": [
    "## Rješenja diferencijalne jednadžbe\n",
    "\n",
    "M je dio diferencijalne jednadzbe (dio uz koef. C1,C2,C3,C4) sa svoje prve 3 derivacije."
   ]
  },
  {
   "cell_type": "code",
   "execution_count": 11,
   "metadata": {
    "collapsed": true
   },
   "outputs": [],
   "source": [
    "beta = sympy.symbols(\"beta\")\n",
    "x = sympy.symbols(\"x\")\n",
    "l = sympy.symbols(\"l\")\n",
    "\n",
    "M = sympy.Matrix([[cosh(beta*x),sinh(beta*x),+cos(beta*x),+sin(beta*x)],\n",
    "               [sinh(beta*x),cosh(beta*x),-sin(beta*x),+cos(beta*x)],\n",
    "               [cosh(beta*x),sinh(beta*x),-cos(beta*x),-sin(beta*x)],\n",
    "               [sinh(beta*x),cosh(beta*x),+sin(beta*x),-cos(beta*x)]])   "
   ]
  },
  {
   "cell_type": "markdown",
   "metadata": {},
   "source": [
    "## Odabir rubnih uvjeta\n",
    "\n",
    "- rlp - rubni uvjet lijevo prvi\n",
    "- rld - rubni uvjet lijevo drugi\n",
    "- rdp - rubni uvjet desno prvi\n",
    "- rdd - rubni uvjet desno drugi\n"
   ]
  },
  {
   "cell_type": "code",
   "execution_count": 12,
   "metadata": {
    "collapsed": false
   },
   "outputs": [
    {
     "name": "stdout",
     "output_type": "stream",
     "text": [
      "\n",
      "\n",
      "rubni uvjeti su: 1) nema progiba 2) nema kuta zaokreta 3) nema momenta 4) nema poprecne sile\n",
      "rubni uvjet lijevo prvi? 1\n",
      "rubni uvjet lijevo drugi? 3\n",
      "rubni uvjet desno prvi? 1\n",
      "rubni uvjet desno drugi? 3\n"
     ]
    }
   ],
   "source": [
    "print (\"\\n\")\n",
    "print (\"rubni uvjeti su: 1) nema progiba 2) nema kuta zaokreta 3) nema momenta 4) nema poprecne sile\")\n",
    "rlp , rld = int(raw_input(\"rubni uvjet lijevo prvi? \")), int(raw_input(\"rubni uvjet lijevo drugi? \"))\n",
    "rdp , rdd = int(raw_input(\"rubni uvjet desno prvi? \")), int(raw_input(\"rubni uvjet desno drugi? \"))\n"
   ]
  },
  {
   "cell_type": "markdown",
   "metadata": {},
   "source": [
    "## Problem vlastitih vrijednosti\n",
    "\n",
    "Uvjet za netrivijalno osciliranje je da matrica N = 0 (problem vlastitih vrijednosti). \n",
    "Matrica N je složena od elemenata matrice M ovisno o zadanim rubnim uvjetima.\n",
    "\n",
    "Za neke rubne uvjete je potreban nelinearni solver te se pokušajem uz pomoć grafa nalaze rješenja. \n"
   ]
  },
  {
   "cell_type": "code",
   "execution_count": 13,
   "metadata": {
    "collapsed": false
   },
   "outputs": [
    {
     "name": "stdout",
     "output_type": "stream",
     "text": [
      "('\\nuvjet za netrivijalno osciliranje: ', -4*sin(beta*l)*sinh(beta*l))\n"
     ]
    },
    {
     "data": {
      "image/png": "[encoded data removed]",
      "text/plain": [
       "<matplotlib.figure.Figure at 0xbd5d160>"
      ]
     },
     "metadata": {},
     "output_type": "display_data"
    },
    {
     "name": "stdout",
     "output_type": "stream",
     "text": [
      "\n",
      "znaci da su tocna rjesenja beta*l =  [0, pi, I*pi]\n"
     ]
    }
   ],
   "source": [
    "N = sympy.Matrix(np.array([(M.row(rlp-1)).subs(x,0),\n",
    "                            (M.row(rld-1)).subs(x,0),\n",
    "                            (M.row(rdp-1)).subs(x,l),\n",
    "                            (M.row(rdd-1)).subs(x,l)]))\n",
    "\n",
    "result = sympy.simplify(sympy.det(N))\n",
    "print ('\\n' + 'uvjet za netrivijalno osciliranje: ', result)\n",
    "result = result.subs(beta*l,x) # zamjena oznaka radi jednostavnijeg pisanja u nastavku\n",
    "plot(result,(x,0,20),ylim=(-50, 50),xlabel=\"beta*l\",ylabel=\"f(beta*l) \")\n",
    "\n",
    "try:\n",
    "    nultocke = sympy.solve(result)\n",
    "    if nultocke != []:\n",
    "        print ('\\n' + 'znaci da su tocna rjesenja beta*l = '), nultocke\n",
    "    else:\n",
    "        raise Exception\n",
    "#ovdje se poziva nelinearni solver ukoliko se pokaze da je potreban\n",
    "except: \n",
    "    print ('\\n' + 'nema tocnih rjesenja, ')\n",
    "    pokusaj = 0\n",
    "    nultocke = []\n",
    "    while type(pokusaj) == int:\n",
    "        try:\n",
    "            pokusaj = int(raw_input(\"uz pomoc grafa pokusaj naci priblizna rjesenja: \"))\n",
    "            nultocke += [sympy.nsolve(result,x,pokusaj, dict = \"True\")]\n",
    "            print (nultocke)\n",
    "        except ValueError:\n",
    "            break"
   ]
  },
  {
   "cell_type": "markdown",
   "metadata": {},
   "source": [
    "## Parametri nosača korištenog u eksperimentu i konačno rješenje"
   ]
  },
  {
   "cell_type": "code",
   "execution_count": 21,
   "metadata": {
    "collapsed": false
   },
   "outputs": [
    {
     "name": "stdout",
     "output_type": "stream",
     "text": [
      "frekvencije za odabrane rubne uvjete [0 0.713877741374261*pi**2 -0.713877741374261*pi**2]\n"
     ]
    }
   ],
   "source": [
    "l = 2.0 #m\n",
    "h, b = 0.013, 0.040 \n",
    "I = b * h**3 / 12\n",
    "E = 12.5 * 10**9 #N/m^2\n",
    "gustoca = 0.650 * (7.0/8) /l #kg\n",
    "\n",
    "beta = np.array(nultocke) / l\n",
    "omega = np.power(beta*l,2) * np.sqrt(E*I/(gustoca*l**4))\n",
    "\n",
    "print (\"frekvencije za odabrane rubne uvjete\"), omega/(2*np.pi)"
   ]
  },
  {
   "cell_type": "code",
   "execution_count": 16,
   "metadata": {
    "collapsed": false
   },
   "outputs": [],
   "source": [
    "#mozda ubaciti interact za rubne uvjete?\n",
    "\n",
    "#from __future__ import print_function\n",
    "#from ipywidgets import interact, interactive, fixed\n",
    "#import ipywidgets as widgets\n",
    "\n",
    "#def f(x):\n",
    "#    return x\n",
    "\n",
    "#interact(f, x=10);"
   ]
  }
 ],
 "metadata": {
  "kernelspec": {
   "display_name": "Python 2",
   "language": "python",
   "name": "python2"
  },
  "language_info": {
   "codemirror_mode": {
    "name": "ipython",
    "version": 2
   },
   "file_extension": ".py",
   "mimetype": "text/x-python",
   "name": "python",
   "nbconvert_exporter": "python",
   "pygments_lexer": "ipython2",
   "version": "2.7.11"
  }
 },
 "nbformat": 4,
 "nbformat_minor": 0
}
